{
 "cells": [
  {
   "cell_type": "code",
   "execution_count": null,
   "id": "4e0f5856",
   "metadata": {},
   "outputs": [],
   "source": [
    "# Preparation\n",
    "\n",
    "import random\n",
    "\n",
    "known_weather_data = {\n",
    "    'berlin': 20.0\n",
    "}\n",
    "\n",
    "def get_weather(city: str) -> float:\n",
    "    city = city.strip().lower()\n",
    "\n",
    "    if city in known_weather_data:\n",
    "        return known_weather_data[city]\n",
    "\n",
    "    return round(random.uniform(-5, 35), 1)"
   ]
  },
  {
   "cell_type": "markdown",
   "id": "fd09d92f",
   "metadata": {},
   "source": [
    "### Q1. Define function description"
   ]
  },
  {
   "cell_type": "code",
   "execution_count": null,
   "id": "7e1723c2",
   "metadata": {},
   "outputs": [],
   "source": [
    "get_weather_tool = {\n",
    "    \"type\": \"function\",\n",
    "    \"name\": \"<TODO1>\",\n",
    "    \"description\": \"<TODO2>\",\n",
    "    \"parameters\": {\n",
    "        \"type\": \"object\",\n",
    "        \"properties\": {\n",
    "            \"<TODO3>\": {\n",
    "                \"type\": \"string\",\n",
    "                \"description\": \"<TODO4>\"\n",
    "            }\n",
    "        },\n",
    "        \"required\": [\"TODO5\"],\n",
    "        \"additionalProperties\": False\n",
    "    }\n",
    "}"
   ]
  },
  {
   "cell_type": "code",
   "execution_count": null,
   "id": "5e10f40f",
   "metadata": {},
   "outputs": [],
   "source": [
    "# How should the description for this function look like? Fill in missing parts\n",
    "# Q: What did you put in TODO3?\n",
    "\n",
    "# A: query\n",
    "\n",
    "get_weather_tool = {\n",
    "    \"type\": \"function\",\n",
    "    \"name\": \"get weather\",\n",
    "    \"description\": \"Retrieves the temperature for a specified city.\",\n",
    "    \"parameters\": {\n",
    "        \"type\": \"object\",\n",
    "        \"properties\": {\n",
    "            \"city\": {\n",
    "                \"type\": \"string\",\n",
    "                \"description\": \"The name of the city for which to retrieve weather data.\"\n",
    "            }\n",
    "        },\n",
    "        \"required\": [\"city\"],\n",
    "        \"additionalProperties\": False\n",
    "    }\n",
    "}"
   ]
  },
  {
   "cell_type": "markdown",
   "id": "aa6891d5",
   "metadata": {},
   "source": [
    "### Q2. Adding another tool"
   ]
  },
  {
   "cell_type": "code",
   "execution_count": null,
   "id": "f926500b",
   "metadata": {},
   "outputs": [],
   "source": [
    "def set_weather(city: str, temp: float) -> None:\n",
    "    city = city.strip().lower()\n",
    "    known_weather_data[city] = temp\n",
    "    return 'OK'"
   ]
  },
  {
   "cell_type": "code",
   "execution_count": null,
   "id": "dcbeac97",
   "metadata": {},
   "outputs": [],
   "source": [
    "# Q: Now let's write a description for it. What did you write?\n",
    "\n",
    "# A:\n",
    "\n",
    "set_weather_tool = {\n",
    "    \"type\": \"function\",\n",
    "    \"name\": \"set weather\",\n",
    "    \"description\": \"Sets the temperature for a specified city.\",\n",
    "    \"parameters\": {\n",
    "        \"type\": \"object\",\n",
    "        \"properties\": {\n",
    "            \"city\": {\n",
    "                \"type\": \"string\",\n",
    "                \"description\": \"The name of the city for which to set the weather data.\"\n",
    "            },\n",
    "            \"temp\": {\n",
    "                \"type\": \"float\",\n",
    "                \"description\": \"The temperature to associate with the city.\"\n",
    "            }\n",
    "        },\n",
    "        \"required\": [\"city\", \"temp\"],\n",
    "        \"additionalProperties\": False\n",
    "    }\n",
    "}"
   ]
  },
  {
   "cell_type": "markdown",
   "id": "a73aadc2",
   "metadata": {},
   "source": [
    "### Q3. Install FastMCP"
   ]
  },
  {
   "cell_type": "code",
   "execution_count": null,
   "id": "ae74f5b9",
   "metadata": {},
   "outputs": [],
   "source": [
    "%pip install fastmcp"
   ]
  },
  {
   "cell_type": "code",
   "execution_count": 1,
   "id": "45525ff3",
   "metadata": {},
   "outputs": [
    {
     "name": "stdout",
     "output_type": "stream",
     "text": [
      "2.10.6\n"
     ]
    }
   ],
   "source": [
    "# Q: What's the version of FastMCP you installed?\n",
    "\n",
    "import fastmcp\n",
    "\n",
    "print(fastmcp.__version__)"
   ]
  },
  {
   "cell_type": "markdown",
   "id": "a9c04648",
   "metadata": {},
   "source": [
    "### Q4. Simple MCP Server"
   ]
  },
  {
   "cell_type": "code",
   "execution_count": null,
   "id": "c35d381b",
   "metadata": {},
   "outputs": [],
   "source": [
    "#!python weather_server.py"
   ]
  },
  {
   "cell_type": "code",
   "execution_count": null,
   "id": "3a2cbec0",
   "metadata": {},
   "outputs": [],
   "source": [
    "# Let's change the example for our case and run it. What do you see in the output?\n",
    "\n",
    "# Look for a string that matches this template: Starting MCP server 'Demo 🚀' with transport '<TODO>'\n",
    "\n",
    "# Q: What do you have instead of <TODO>?\n",
    "\n",
    "# A: stdio"
   ]
  },
  {
   "cell_type": "markdown",
   "id": "e473573b",
   "metadata": {},
   "source": [
    "### Q5. Protocol"
   ]
  },
  {
   "cell_type": "code",
   "execution_count": 5,
   "id": "b4e8dac3",
   "metadata": {},
   "outputs": [],
   "source": [
    "import subprocess\n",
    "import json\n",
    "import threading\n",
    "\n",
    "# Start the MCP server subprocess (replace `your_server_command` with the actual command)\n",
    "proc = subprocess.Popen(\n",
    "    [\"python\", \"weather_server.py\"],  # e.g., [\"./server\"]\n",
    "    stdin=subprocess.PIPE,\n",
    "    stdout=subprocess.PIPE,\n",
    "    stderr=subprocess.PIPE,\n",
    "    text=True,  # For string I/O\n",
    "    bufsize=1,  # Line-buffered\n",
    ")"
   ]
  },
  {
   "cell_type": "code",
   "execution_count": 6,
   "id": "01e969d4",
   "metadata": {},
   "outputs": [],
   "source": [
    "# Helper to read from stdout asynchronously\n",
    "def read_stdout(proc):\n",
    "    while True:\n",
    "        line = proc.stdout.readline()\n",
    "        if line:\n",
    "            print(\"SERVER RESPONSE:\", line.strip())\n",
    "        else:\n",
    "            break\n",
    "\n",
    "\n",
    "# Helper to send JSON-RPC request\n",
    "def send_request(payload):\n",
    "    json_line = json.dumps(payload) + \"\\n\"\n",
    "    proc.stdin.write(json_line)\n",
    "    proc.stdin.flush()"
   ]
  },
  {
   "cell_type": "code",
   "execution_count": null,
   "id": "5b239f2b",
   "metadata": {},
   "outputs": [
    {
     "name": "stdout",
     "output_type": "stream",
     "text": [
      "SERVER RESPONSE: {\"jsonrpc\":\"2.0\",\"id\":1,\"result\":{\"protocolVersion\":\"2024-11-05\",\"capabilities\":{\"experimental\":{},\"prompts\":{\"listChanged\":false},\"resources\":{\"subscribe\":false,\"listChanged\":false},\"tools\":{\"listChanged\":true}},\"serverInfo\":{\"name\":\"Demo 🚀\",\"version\":\"1.12.0\"}}}\n",
      "SERVER RESPONSE: {\"jsonrpc\":\"2.0\",\"id\":2,\"result\":{\"tools\":[{\"name\":\"get_weather\",\"description\":\"Retrieves the temperature for a specified city.\\n\\nParameters:\\n    city (str): The name of the city for which to retrieve weather data.\\n\\nReturns:\\n    float: The temperature associated with the city.\",\"inputSchema\":{\"properties\":{\"city\":{\"title\":\"City\",\"type\":\"string\"}},\"required\":[\"city\"],\"type\":\"object\"},\"outputSchema\":{\"properties\":{\"result\":{\"title\":\"Result\",\"type\":\"number\"}},\"required\":[\"result\"],\"title\":\"_WrappedResult\",\"type\":\"object\",\"x-fastmcp-wrap-result\":true}},{\"name\":\"set_weather\",\"description\":\"Sets the temperature for a specified city.\\n\\nParameters:\\n    city (str): The name of the city for which to set the weather data.\\n    temp (float): The temperature to associate with the city.\\n\\nReturns:\\n    str: A confirmation string 'OK' indicating successful update.\",\"inputSchema\":{\"properties\":{\"city\":{\"title\":\"City\",\"type\":\"string\"},\"temp\":{\"title\":\"Temp\",\"type\":\"number\"}},\"required\":[\"city\",\"temp\"],\"type\":\"object\"}}]}}\n",
      "SERVER RESPONSE: {\"jsonrpc\":\"2.0\",\"id\":3,\"result\":{\"content\":[{\"type\":\"text\",\"text\":\"20.0\"}],\"structuredContent\":{\"result\":20.0},\"isError\":false}}\n"
     ]
    }
   ],
   "source": [
    "# Start the stdout reader in a separate thread\n",
    "threading.Thread(target=read_stdout, args=(proc,), daemon=True).start()"
   ]
  },
  {
   "cell_type": "code",
   "execution_count": 8,
   "id": "b5caf8b8",
   "metadata": {},
   "outputs": [],
   "source": [
    "# Step 1: Send initialize\n",
    "send_request({\n",
    "    \"jsonrpc\": \"2.0\",\n",
    "    \"id\": 1,\n",
    "    \"method\": \"initialize\",\n",
    "    \"params\": {\n",
    "        \"protocolVersion\": \"2024-11-05\",\n",
    "        \"capabilities\": {\n",
    "            \"roots\": {\"listChanged\": True},\n",
    "            \"sampling\": {}\n",
    "        },\n",
    "        \"clientInfo\": {\n",
    "            \"name\": \"test-client\",\n",
    "            \"version\": \"1.0.0\"\n",
    "        }\n",
    "    }\n",
    "})\n",
    "\n",
    "# Step 2: Wait a bit for response, then send initialized notification\n",
    "import time\n",
    "time.sleep(1)\n",
    "\n",
    "send_request({\n",
    "    \"jsonrpc\": \"2.0\",\n",
    "    \"method\": \"notifications/initialized\"\n",
    "})\n",
    "\n",
    "# Step 3: Ask for list of tools\n",
    "time.sleep(1)\n",
    "\n",
    "send_request({\n",
    "    \"jsonrpc\": \"2.0\",\n",
    "    \"id\": 2,\n",
    "    \"method\": \"tools/list\"\n",
    "})\n",
    "\n",
    "# Step 4: Wait and watch output to find the tool name for weather (e.g., \"weather.get\")\n",
    "# Then call the tool with parameters\n",
    "time.sleep(2)\n",
    "\n",
    "send_request({\n",
    "    \"jsonrpc\": \"2.0\",\n",
    "    \"id\": 3,\n",
    "    \"method\": \"tools/call\",\n",
    "    \"params\": {\n",
    "        \"name\": \"get_weather\", \n",
    "        \"arguments\": {\n",
    "            \"city\": \"Berlin\"\n",
    "        }\n",
    "    }\n",
    "})\n",
    "\n",
    "# Keep alive to receive outputs\n",
    "time.sleep(5)\n",
    "\n",
    "# Optionally terminate the server\n",
    "proc.terminate()"
   ]
  },
  {
   "cell_type": "code",
   "execution_count": null,
   "id": "9b0d854a",
   "metadata": {},
   "outputs": [],
   "source": [
    "# What did you get in response?\n",
    "\n",
    "# A: \n",
    "{\"jsonrpc\":\"2.0\",\"id\":3,\"result\":{\"content\":[{\"type\":\"text\",\"text\":\"20.0\"}],\"structuredContent\":{\"result\":20.0},\"isError\":false}}"
   ]
  },
  {
   "cell_type": "markdown",
   "id": "c0fbbda8",
   "metadata": {},
   "source": [
    "### Q6. Client"
   ]
  },
  {
   "cell_type": "code",
   "execution_count": 32,
   "id": "aa6a3ceb",
   "metadata": {},
   "outputs": [
    {
     "name": "stdout",
     "output_type": "stream",
     "text": [
      "Available tools:\n",
      "[Tool(name='get_weather', title=None, description='Retrieves the temperature for a specified city.\\n\\nParameters:\\n    city (str): The name of the city for which to retrieve weather data.\\n\\nReturns:\\n    float: The temperature associated with the city.', inputSchema={'properties': {'city': {'title': 'City', 'type': 'string'}}, 'required': ['city'], 'type': 'object'}, outputSchema={'properties': {'result': {'title': 'Result', 'type': 'number'}}, 'required': ['result'], 'title': '_WrappedResult', 'type': 'object', 'x-fastmcp-wrap-result': True}, annotations=None, meta=None), Tool(name='set_weather', title=None, description=\"Sets the temperature for a specified city.\\n\\nParameters:\\n    city (str): The name of the city for which to set the weather data.\\n    temp (float): The temperature to associate with the city.\\n\\nReturns:\\n    str: A confirmation string 'OK' indicating successful update.\", inputSchema={'properties': {'city': {'title': 'City', 'type': 'string'}, 'temp': {'title': 'Temp', 'type': 'number'}}, 'required': ['city', 'temp'], 'type': 'object'}, outputSchema=None, annotations=None, meta=None)]\n",
      "\n",
      "-----------\n",
      "- get_weather: Retrieves the temperature for a specified city.\n",
      "\n",
      "Parameters:\n",
      "    city (str): The name of the city for which to retrieve weather data.\n",
      "\n",
      "Returns:\n",
      "    float: The temperature associated with the city.\n",
      "\n",
      "- set_weather: Sets the temperature for a specified city.\n",
      "\n",
      "Parameters:\n",
      "    city (str): The name of the city for which to set the weather data.\n",
      "    temp (float): The temperature to associate with the city.\n",
      "\n",
      "Returns:\n",
      "    str: A confirmation string 'OK' indicating successful update.\n",
      "\n",
      "\n",
      "Result: [TextContent(type='text', text='20.0', annotations=None, meta=None)]\n"
     ]
    }
   ],
   "source": [
    "from fastmcp import Client\n",
    "import weather_server\n",
    "\n",
    "async def main():\n",
    "    async with Client(weather_server.mcp) as mcp_client:\n",
    "        tools = await mcp_client.list_tools()\n",
    "        print(\"Available tools:\")\n",
    "        print(tools)\n",
    "        print()\n",
    "        print('-----------')\n",
    "        for tool in tools:\n",
    "            print(f\"- {tool.name}: {tool.description}\")\n",
    "            print()\n",
    "        \n",
    "        print()\n",
    "        result = await mcp_client.call_tool(\"get_weather\", {\"city\": 'Berlin'})\n",
    "        print(f\"Result: {result.content}\")\n",
    "\n",
    "# Run it in Jupyter\n",
    "await main()"
   ]
  },
  {
   "cell_type": "code",
   "execution_count": null,
   "id": "a3f585fc",
   "metadata": {},
   "outputs": [
    {
     "data": {
      "text/plain": [
       "<coroutine object main at 0x790eb4713680>"
      ]
     },
     "execution_count": 14,
     "metadata": {},
     "output_type": "execute_result"
    }
   ],
   "source": [
    "# Q: Use the client to get the list of available tools of our script. How does the result look like?\n",
    "\n",
    "# A: \n",
    "[Tool(name='get_weather', title=None, description='Retrieves the temperature for a specified city.\\n\\nParameters:\\n    city (str): The name of the city for which to retrieve weather data.\\n\\nReturns:\\n    float: The temperature associated with the city.', inputSchema={'properties': {'city': {'title': 'City', 'type': 'string'}}, 'required': ['city'], 'type': 'object'}, outputSchema={'properties': {'result': {'title': 'Result', 'type': 'number'}}, 'required': ['result'], 'title': '_WrappedResult', 'type': 'object', 'x-fastmcp-wrap-result': True}, annotations=None, meta=None), Tool(name='set_weather', title=None, description=\"Sets the temperature for a specified city.\\n\\nParameters:\\n    city (str): The name of the city for which to set the weather data.\\n    temp (float): The temperature to associate with the city.\\n\\nReturns:\\n    str: A confirmation string 'OK' indicating successful update.\", inputSchema={'properties': {'city': {'title': 'City', 'type': 'string'}, 'temp': {'title': 'Temp', 'type': 'number'}}, 'required': ['city', 'temp'], 'type': 'object'}, outputSchema=None, annotations=None, meta=None)]"
   ]
  },
  {
   "cell_type": "code",
   "execution_count": null,
   "id": "4016064e",
   "metadata": {},
   "outputs": [],
   "source": []
  },
  {
   "cell_type": "code",
   "execution_count": null,
   "id": "e79b8a7f",
   "metadata": {},
   "outputs": [],
   "source": []
  }
 ],
 "metadata": {
  "kernelspec": {
   "display_name": "Python 3 (ipykernel)",
   "language": "python",
   "name": "python3"
  },
  "language_info": {
   "codemirror_mode": {
    "name": "ipython",
    "version": 3
   },
   "file_extension": ".py",
   "mimetype": "text/x-python",
   "name": "python",
   "nbconvert_exporter": "python",
   "pygments_lexer": "ipython3",
   "version": "3.12.1"
  }
 },
 "nbformat": 4,
 "nbformat_minor": 5
}
