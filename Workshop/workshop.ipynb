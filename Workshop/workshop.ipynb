{
 "cells": [
  {
   "cell_type": "code",
   "execution_count": null,
   "id": "ab485681",
   "metadata": {},
   "outputs": [],
   "source": []
  },
  {
   "cell_type": "markdown",
   "id": "a698843e",
   "metadata": {},
   "source": [
    "### Question 1. dlt Version"
   ]
  },
  {
   "cell_type": "code",
   "execution_count": null,
   "id": "40bbd046",
   "metadata": {},
   "outputs": [],
   "source": [
    "# !pip install -q \"dlt[qdrant]\" \"qdrant-client[fastembed]\""
   ]
  },
  {
   "cell_type": "code",
   "execution_count": 1,
   "id": "8a649b57",
   "metadata": {},
   "outputs": [
    {
     "name": "stdout",
     "output_type": "stream",
     "text": [
      "1.13.0\n"
     ]
    }
   ],
   "source": [
    "# Q: What's the version of dlt that you installed?\n",
    "\n",
    "import dlt\n",
    "print(dlt.__version__)"
   ]
  },
  {
   "cell_type": "code",
   "execution_count": null,
   "id": "8e979a72",
   "metadata": {},
   "outputs": [],
   "source": [
    "import requests\n",
    "import pandas as pd"
   ]
  },
  {
   "cell_type": "code",
   "execution_count": 3,
   "id": "a7494553",
   "metadata": {},
   "outputs": [],
   "source": [
    "# Step 1: Create DLT resource\n",
    "@dlt.resource(write_disposition=\"replace\", name=\"zoomcamp_data\")\n",
    "def zoomcamp_data():\n",
    "    docs_url = 'https://github.com/alexeygrigorev/llm-rag-workshop/raw/main/notebooks/documents.json'\n",
    "    docs_response = requests.get(docs_url)\n",
    "    documents_raw = docs_response.json()\n",
    "\n",
    "    for course in documents_raw:\n",
    "        course_name = course['course']\n",
    "\n",
    "        for doc in course['documents']:\n",
    "            doc['course'] = course_name\n",
    "            yield doc"
   ]
  },
  {
   "cell_type": "markdown",
   "id": "984e10c3",
   "metadata": {},
   "source": [
    "### Question 2. dlt pipeline"
   ]
  },
  {
   "cell_type": "code",
   "execution_count": 4,
   "id": "af6fba96",
   "metadata": {},
   "outputs": [],
   "source": [
    "from dlt.destinations import qdrant\n",
    "\n",
    "qdrant_destination = qdrant(\n",
    "  qd_path=\"db.qdrant\", \n",
    ")"
   ]
  },
  {
   "cell_type": "code",
   "execution_count": 5,
   "id": "4ca33c30",
   "metadata": {},
   "outputs": [
    {
     "name": "stderr",
     "output_type": "stream",
     "text": [
      "/usr/local/python/3.12.1/lib/python3.12/site-packages/tqdm/auto.py:21: TqdmWarning: IProgress not found. Please update jupyter and ipywidgets. See https://ipywidgets.readthedocs.io/en/stable/user_install.html\n",
      "  from .autonotebook import tqdm as notebook_tqdm\n"
     ]
    },
    {
     "name": "stdout",
     "output_type": "stream",
     "text": [
      "Run started at 2025-07-12 09:47:48.176235+00:00 and COMPLETED in 9.93 seconds with 4 steps.\n",
      "Step extract COMPLETED in 0.63 seconds.\n",
      "\n",
      "Load package 1752313671.0163646 is EXTRACTED and NOT YET LOADED to the destination and contains no failed jobs\n",
      "\n",
      "Step normalize COMPLETED in 0.08 seconds.\n",
      "Normalized data for the following tables:\n",
      "- zoomcamp_data: 948 row(s)\n",
      "- _dlt_pipeline_state: 1 row(s)\n",
      "\n",
      "Load package 1752313671.0163646 is NORMALIZED and NOT YET LOADED to the destination and contains no failed jobs\n",
      "\n",
      "Step load COMPLETED in 6.39 seconds.\n",
      "Pipeline zoomcamp_pipeline load step completed in 6.37 seconds\n",
      "1 load package(s) were loaded to destination qdrant and into dataset zoomcamp_tagged_data\n",
      "The qdrant destination used /workspaces/llm-zoomcamp-2025-homework/Workshop/db.qdrant location to store data\n",
      "Load package 1752313671.0163646 is LOADED and contains no failed jobs\n",
      "\n",
      "Step run COMPLETED in 9.93 seconds.\n",
      "Pipeline zoomcamp_pipeline load step completed in 6.37 seconds\n",
      "1 load package(s) were loaded to destination qdrant and into dataset zoomcamp_tagged_data\n",
      "The qdrant destination used /workspaces/llm-zoomcamp-2025-homework/Workshop/db.qdrant location to store data\n",
      "Load package 1752313671.0163646 is LOADED and contains no failed jobs\n"
     ]
    }
   ],
   "source": [
    "pipeline = dlt.pipeline(\n",
    "    pipeline_name=\"zoomcamp_pipeline\",\n",
    "    destination=qdrant_destination,\n",
    "    dataset_name=\"zoomcamp_tagged_data\"\n",
    "\n",
    ")\n",
    "load_info = pipeline.run(zoomcamp_data())\n",
    "print(pipeline.last_trace)"
   ]
  },
  {
   "cell_type": "code",
   "execution_count": null,
   "id": "179e849c",
   "metadata": {},
   "outputs": [],
   "source": [
    "# Q: How many rows were inserted into the zoomcamp_data collection?\n",
    "\n",
    "# Hint: Look for \"Normalized data for the following tables:\" in the trace output.\n",
    "\n",
    "# A: Normalized data for the following tables: - zoomcamp_data: 948 row(s)"
   ]
  },
  {
   "cell_type": "markdown",
   "id": "92532cc9",
   "metadata": {},
   "source": [
    "### Question 3. Embeddings"
   ]
  },
  {
   "cell_type": "code",
   "execution_count": null,
   "id": "68de8462",
   "metadata": {},
   "outputs": [],
   "source": [
    "# Q: When inserting the data, an embedding model was used. Which one?\n",
    "\n",
    "# A: fast-bge-small-en"
   ]
  },
  {
   "cell_type": "code",
   "execution_count": null,
   "id": "5b09f710",
   "metadata": {},
   "outputs": [],
   "source": [
    "# Hint:\n",
    "# You can find this out by inspecting the meta.json file created in the target folder.\n",
    "# During the data insertion process, a folder named db.qdrant will be created,\n",
    "# and the meta.json file will be located inside this folder."
   ]
  },
  {
   "cell_type": "code",
   "execution_count": null,
   "id": "a0dd8e38",
   "metadata": {},
   "outputs": [],
   "source": []
  }
 ],
 "metadata": {
  "kernelspec": {
   "display_name": "Python 3 (ipykernel)",
   "language": "python",
   "name": "python3"
  },
  "language_info": {
   "codemirror_mode": {
    "name": "ipython",
    "version": 3
   },
   "file_extension": ".py",
   "mimetype": "text/x-python",
   "name": "python",
   "nbconvert_exporter": "python",
   "pygments_lexer": "ipython3",
   "version": "3.12.1"
  }
 },
 "nbformat": 4,
 "nbformat_minor": 5
}
